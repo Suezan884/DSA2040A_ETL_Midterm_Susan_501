{
 "cells": [
  {
   "cell_type": "code",
   "execution_count": 1,
   "id": "bdf6d77b",
   "metadata": {},
   "outputs": [],
   "source": [
    "import pandas as pd\n",
    "df_raw = pd.read_csv('data/raw_data.csv')\n",
    "df_incremental = pd.read_csv('data/incremental_data.csv')"
   ]
  },
  {
   "cell_type": "code",
   "execution_count": 2,
   "id": "c3e3ccd2",
   "metadata": {},
   "outputs": [
    {
     "name": "stdout",
     "output_type": "stream",
     "text": [
      "Missing values before (raw):\n",
      " order_id          0\n",
      "customer_name     1\n",
      "product           0\n",
      "quantity         26\n",
      "unit_price       35\n",
      "order_date        1\n",
      "region           25\n",
      "dtype: int64\n",
      "Missing values before (incremental):\n",
      " order_id         0\n",
      "customer_name    6\n",
      "product          0\n",
      "quantity         4\n",
      "unit_price       0\n",
      "order_date       0\n",
      "region           2\n",
      "dtype: int64\n",
      "\n",
      "Missing values after (raw):\n",
      " order_id         0\n",
      "customer_name    0\n",
      "product          0\n",
      "quantity         0\n",
      "unit_price       0\n",
      "order_date       1\n",
      "region           0\n",
      "dtype: int64\n",
      "Missing values after (incremental):\n",
      " order_id         0\n",
      "customer_name    0\n",
      "product          0\n",
      "quantity         0\n",
      "unit_price       0\n",
      "order_date       0\n",
      "region           0\n",
      "dtype: int64\n",
      "\n",
      "Duplicates before (raw): 1\n",
      "Duplicates before (incremental): 0\n",
      "Duplicates after (raw): 0\n",
      "Duplicates after (incremental): 0\n"
     ]
    }
   ],
   "source": [
    "#TRANSFORMATIONS\n",
    "#Handling missing values in raw and incremental data\n",
    "# Fill missing values with \"Unknown\" for specific columns in both datasets\n",
    "print(\"Missing values before (raw):\\n\", df_raw.isnull().sum())\n",
    "print(\"Missing values before (incremental):\\n\", df_incremental.isnull().sum())\n",
    "\n",
    "df_raw.fillna({\"region\": \"Unknown\", \"customer_name\": \"Unknown\",\"quantity\":\"Unknown\",\"unit_price\":\"Unknown\",\"order-data\":\"Unknown\",\"region\":\"Unknown\"}, inplace=True)\n",
    "df_incremental.fillna({\"region\": \"Unknown\", \"customer_name\": \"Unknown\",\"quantity\":\"Unknown\",\"region\":\"Unknown\"}, inplace=True)\n",
    "\n",
    "print(\"\\nMissing values after (raw):\\n\", df_raw.isnull().sum())\n",
    "print(\"Missing values after (incremental):\\n\", df_incremental.isnull().sum())\n",
    "\n",
    "#dropping duplicates in raw and incremental data\n",
    "print(\"\\nDuplicates before (raw):\", df_raw.duplicated().sum())\n",
    "print(\"Duplicates before (incremental):\", df_incremental.duplicated().sum())\n",
    "df_raw.drop_duplicates(inplace=True)\n",
    "df_incremental.drop_duplicates(inplace=True)\n",
    "print(\"Duplicates after (raw):\", df_raw.duplicated().sum())\n",
    "print(\"Duplicates after (incremental):\", df_incremental.duplicated().sum())\n",
    "\n"
   ]
  },
  {
   "cell_type": "code",
   "execution_count": 3,
   "id": "222ddee5",
   "metadata": {},
   "outputs": [
    {
     "name": "stdout",
     "output_type": "stream",
     "text": [
      "Date type before: object\n",
      "Date type before: object\n",
      "Date type after: datetime64[ns]\n",
      "Date type after: datetime64[ns]\n"
     ]
    }
   ],
   "source": [
    "#converting dates and changing data types\n",
    "#converting order_date column in both datasets to datetime format\n",
    "#ensures that the date is in a consistent format for analysis\n",
    "# Simulate order_date as string/object\n",
    "df_raw[\"order_date\"] = df_raw[\"order_date\"].astype(str)\n",
    "df_incremental[\"order_date\"] = df_incremental[\"order_date\"].astype(str)\n",
    "\n",
    "# Before\n",
    "print(\"Date type before:\", df_raw[\"order_date\"].dtype)\n",
    "print(\"Date type before:\", df_incremental[\"order_date\"].dtype)\n",
    "\n",
    "# Convert to datetime\n",
    "df_raw[\"order_date\"] = pd.to_datetime(df_raw[\"order_date\"], errors=\"coerce\")\n",
    "df_incremental[\"order_date\"] = pd.to_datetime(df_incremental[\"order_date\"], errors=\"coerce\")\n",
    "\n",
    "# After\n",
    "print(\"Date type after:\", df_raw[\"order_date\"].dtype)\n",
    "print(\"Date type after:\", df_incremental[\"order_date\"].dtype)"
   ]
  },
  {
   "cell_type": "code",
   "execution_count": 5,
   "id": "a051e865",
   "metadata": {},
   "outputs": [
    {
     "name": "stdout",
     "output_type": "stream",
     "text": [
      "Rows before filtering: 99\n",
      "Rows after filtering: 46\n",
      "Rows before filtering: 10\n",
      "Rows after filtering: 6\n",
      "Columns before dropping (incremental): Index(['order_id', 'customer_name', 'product', 'quantity', 'unit_price',\n",
      "       'order_date', 'region'],\n",
      "      dtype='object')\n",
      "Columns after dropping (incremental): Index(['order_id', 'customer_name', 'product', 'quantity', 'unit_price',\n",
      "       'order_date', 'region'],\n",
      "      dtype='object')\n",
      "Columns before dropping (raw): Index(['order_id', 'customer_name', 'product', 'quantity', 'unit_price',\n",
      "       'order_date', 'region'],\n",
      "      dtype='object')\n",
      "Columns after dropping (raw): Index(['order_id', 'customer_name', 'product', 'quantity', 'unit_price',\n",
      "       'order_date', 'region'],\n",
      "      dtype='object')\n"
     ]
    }
   ],
   "source": [
    "#Dropping unnecessary columns in raw and incremental data\n",
    "#Removing rows where quantity or unit_price <= 0\n",
    "#Rows with quantity or unit_price <= 0 will not be useful for analysis, so we will drop them.\n",
    "\n",
    "#Drop rows where quantity or unit_price <= 0\n",
    "\n",
    "df_raw['quantity'] = pd.to_numeric(df_raw['quantity'], errors='coerce')\n",
    "df_raw['unit_price'] = pd.to_numeric(df_raw['unit_price'], errors='coerce')\n",
    "df_incremental['quantity'] = pd.to_numeric(df_incremental['quantity'], errors='coerce')\n",
    "df_incremental['unit_price'] = pd.to_numeric(df_incremental['unit_price'], errors='coerce')\n",
    "\n",
    "print(\"Rows before filtering:\", df_raw.shape[0])\n",
    "df_raw = df_raw[(df_raw['quantity'] > 0) & (df_raw['unit_price'] > 0)]\n",
    "print(\"Rows after filtering:\", df_raw.shape[0])\n",
    "\n",
    "print(\"Rows before filtering:\", df_incremental.shape[0])\n",
    "df_incremental = df_incremental[(df_incremental['quantity'] > 0) & (df_incremental['unit_price'] > 0)]\n",
    "print(\"Rows after filtering:\", df_incremental.shape[0])\n",
    "\n",
    "# Dropping unnecessary columns in incremental data\n",
    "print(\"Columns before dropping (incremental):\", df_incremental.columns)\n",
    "cols_to_drop_inc = [col for col in ['notes', 'extra_info'] if col in df_incremental.columns]\n",
    "df_incremental.drop(columns=cols_to_drop_inc, inplace=True)\n",
    "print(\"Columns after dropping (incremental):\", df_incremental.columns)\n",
    "\n",
    "# Dropping unnecessary columns in raw data\n",
    "print(\"Columns before dropping (raw):\", df_raw.columns)\n",
    "cols_to_drop_inc = [col for col in ['notes', 'extra_info'] if col in df_raw.columns]\n",
    "df_incremental.drop(columns=cols_to_drop_inc, inplace=True)\n",
    "print(\"Columns after dropping (raw):\", df_raw.columns)\n",
    "\n"
   ]
  },
  {
   "cell_type": "code",
   "execution_count": 6,
   "id": "ade9d21a",
   "metadata": {},
   "outputs": [
    {
     "name": "stdout",
     "output_type": "stream",
     "text": [
      "Customer tier column before: False\n",
      "Customer tier column before (incremental): False\n",
      "Customer tier column after: True\n",
      "Unique tiers: ['Silver', 'Platinum', 'Gold']\n",
      "Categories (4, object): ['Bronze' < 'Silver' < 'Gold' < 'Platinum']\n"
     ]
    }
   ],
   "source": [
    "#Categorization\n",
    "#create a new column customer_tier that categorizes customers by their total purchase amount\n",
    "#This will help in understanding customer value and targeting marketing efforts.\n",
    "# Add total_price column if not already present\n",
    "df_raw[\"total_price\"] = df_raw[\"quantity\"] * df_raw[\"unit_price\"]\n",
    "df_incremental[\"total_price\"] = df_incremental[\"quantity\"] * df_incremental[\"unit_price\"]\n",
    "\n",
    "# Before categorization\n",
    "print(\"Customer tier column before:\", \"customer_tier\" in df_raw.columns)\n",
    "print(\"Customer tier column before (incremental):\", \"customer_tier\" in df_incremental.columns)\n",
    "\n",
    "# Categorize customers by total_price\n",
    "bins = [0, 100, 500, 1000, float('inf')]\n",
    "labels = [\"Bronze\", \"Silver\", \"Gold\", \"Platinum\"]\n",
    "df_raw[\"customer_tier\"] = pd.cut(df_raw[\"total_price\"], bins=bins, labels=labels)\n",
    "df_incremental[\"customer_tier\"] = pd.cut(df_incremental[\"total_price\"], bins=bins, labels=labels)\n",
    "\n",
    "# After categorization\n",
    "print(\"Customer tier column after:\", \"customer_tier\" in df_raw.columns)\n",
    "print(\"Unique tiers:\", df_raw[\"customer_tier\"].unique())"
   ]
  },
  {
   "cell_type": "code",
   "execution_count": 7,
   "id": "653db238",
   "metadata": {},
   "outputs": [
    {
     "name": "stdout",
     "output_type": "stream",
     "text": [
      "Transformed files saved to 'transformed/' folder.\n"
     ]
    }
   ],
   "source": [
    "#save the transformed dataframes\n",
    "df_raw.to_csv('transformed/transformed_full.csv', index=False)\n",
    "df_incremental.to_csv('transformed/transformed_incremental.csv', index=False)\n",
    "\n",
    "print(\"Transformed files saved to 'transformed/' folder.\")\n"
   ]
  }
 ],
 "metadata": {
  "kernelspec": {
   "display_name": "Python 3",
   "language": "python",
   "name": "python3"
  },
  "language_info": {
   "codemirror_mode": {
    "name": "ipython",
    "version": 3
   },
   "file_extension": ".py",
   "mimetype": "text/x-python",
   "name": "python",
   "nbconvert_exporter": "python",
   "pygments_lexer": "ipython3",
   "version": "3.12.0"
  }
 },
 "nbformat": 4,
 "nbformat_minor": 5
}
