{
 "cells": [
  {
   "cell_type": "code",
   "execution_count": 1,
   "id": "8baa6010",
   "metadata": {},
   "outputs": [],
   "source": [
    "import pandas as pd\n",
    "import sqlite3\n"
   ]
  },
  {
   "cell_type": "code",
   "execution_count": 2,
   "id": "20b67074",
   "metadata": {},
   "outputs": [],
   "source": [
    "#load transformed data\n",
    "#load into SQLite\n",
    "df_full = pd.read_csv('transformed/transformed_full.csv')\n",
    "df_incremental = pd.read_csv('transformed/transformed_incremental.csv')"
   ]
  },
  {
   "cell_type": "code",
   "execution_count": 5,
   "id": "ea7c1d4c",
   "metadata": {},
   "outputs": [
    {
     "data": {
      "text/plain": [
       "6"
      ]
     },
     "execution_count": 5,
     "metadata": {},
     "output_type": "execute_result"
    }
   ],
   "source": [
    "# Connect to SQLite \n",
    "conn = sqlite3.connect('loaded/incremental_data.db')\n",
    "df_full.to_sql('full_data', conn, if_exists='replace', index=False)\n",
    "df_incremental.to_sql('incremental_data', conn, if_exists='replace', index=False)"
   ]
  },
  {
   "cell_type": "code",
   "execution_count": 7,
   "id": "cf8b789c",
   "metadata": {},
   "outputs": [
    {
     "name": "stdout",
     "output_type": "stream",
     "text": [
      "   order_id customer_name  product  quantity  unit_price  order_date   region  \\\n",
      "0         3       Charlie   Laptop       2.0       250.0  2024-01-08  Unknown   \n",
      "1         4           Eve   Laptop       2.0       750.0  2024-01-07     West   \n",
      "2         7       Charlie  Monitor       2.0       750.0  2024-02-02     West   \n",
      "3        10           Eve  Monitor       1.0       500.0  2024-02-28    North   \n",
      "4        11       Unknown  Monitor       3.0       750.0  2024-04-24     West   \n",
      "\n",
      "   total_price customer_tier  \n",
      "0        500.0        Silver  \n",
      "1       1500.0      Platinum  \n",
      "2       1500.0      Platinum  \n",
      "3        500.0        Silver  \n",
      "4       2250.0      Platinum  \n"
     ]
    }
   ],
   "source": [
    "#preview the stored results\n",
    "preview = pd.read_sql_query(\"SELECT * FROM full_data LIMIT 5\", conn)\n",
    "print(preview)"
   ]
  }
 ],
 "metadata": {
  "kernelspec": {
   "display_name": "Python 3",
   "language": "python",
   "name": "python3"
  },
  "language_info": {
   "codemirror_mode": {
    "name": "ipython",
    "version": 3
   },
   "file_extension": ".py",
   "mimetype": "text/x-python",
   "name": "python",
   "nbconvert_exporter": "python",
   "pygments_lexer": "ipython3",
   "version": "3.12.0"
  }
 },
 "nbformat": 4,
 "nbformat_minor": 5
}
